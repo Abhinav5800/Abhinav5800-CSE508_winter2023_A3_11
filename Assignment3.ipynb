{
  "nbformat": 4,
  "nbformat_minor": 0,
  "metadata": {
    "colab": {
      "private_outputs": true,
      "provenance": []
    },
    "kernelspec": {
      "name": "python3",
      "display_name": "Python 3"
    },
    "language_info": {
      "name": "python"
    }
  },
  "cells": [
    {
      "cell_type": "markdown",
      "source": [
        "# **QUESTION1**"
      ],
      "metadata": {
        "id": "96XFsrldqI5X"
      }
    },
    {
      "cell_type": "code",
      "execution_count": null,
      "metadata": {
        "id": "9JToimxIqJTm"
      },
      "outputs": [],
      "source": [
        "#Importing all the necessary libraries\n",
        "import nltk\n",
        "import pandas as pd\n",
        "import numpy as np\n",
        "from sklearn.model_selection import train_test_split\n",
        "from sklearn.metrics import accuracy_score\n",
        "from sklearn.metrics import classification_report\n",
        "\n",
        "import matplotlib.pyplot as plt\n",
        "import warnings\n",
        "warnings.filterwarnings(\"ignore\")\n",
        "import networkx as nx\n",
        "import math\n",
        "nltk.download('wordnet')\n"
      ]
    },
    {
      "cell_type": "code",
      "source": [
        "#IMPORT THE DATASET\n",
        "df=pd.read_csv(\"/content/drive/MyDrive/soc-sign-bitcoinotc.csv\",header=None)"
      ],
      "metadata": {
        "id": "bDQniyeQtpN_"
      },
      "execution_count": null,
      "outputs": []
    },
    {
      "cell_type": "code",
      "source": [
        "from google.colab import drive\n",
        "drive.mount('/content/drive')"
      ],
      "metadata": {
        "id": "rSFaIlgjCc02"
      },
      "execution_count": null,
      "outputs": []
    },
    {
      "cell_type": "code",
      "source": [
        "df"
      ],
      "metadata": {
        "id": "Q9PBoKU0t2VS"
      },
      "execution_count": null,
      "outputs": []
    },
    {
      "cell_type": "code",
      "source": [
        "df.columns"
      ],
      "metadata": {
        "id": "MDvZvIK9t6M7"
      },
      "execution_count": null,
      "outputs": []
    },
    {
      "cell_type": "markdown",
      "source": [
        "Edge Representation of data"
      ],
      "metadata": {
        "id": "jAfdTXvKJgQ9"
      }
    },
    {
      "cell_type": "code",
      "source": [
        "def calEdgeList(df):\n",
        "  edge_list = []\n",
        "  for i in range(len(df)):\n",
        "    first = df.iloc[i,0]\n",
        "    second = df.iloc[i,1]\n",
        "    edge_list.append((first, second))\n",
        "  return edge_list"
      ],
      "metadata": {
        "id": "ONm3G-OwTygf"
      },
      "execution_count": null,
      "outputs": []
    },
    {
      "cell_type": "code",
      "source": [
        "edge_list = calEdgeList(df)\n",
        "print(edge_list)"
      ],
      "metadata": {
        "id": "cTFQTJAiUBzZ"
      },
      "execution_count": null,
      "outputs": []
    },
    {
      "cell_type": "code",
      "source": [
        "# representation of adj_matrix\n",
        "columns = list(set(list(df[0])+list(df[1])))\n",
        "adj_mtx = pd.DataFrame(index=columns, columns=columns)\n",
        "adj_mtx = adj_mtx.fillna(0) ## intializing dataframe with zeroes instead of nan's\n",
        "for i in edge_list:\n",
        "    adj_mtx[i[0]][i[1]] = 1\n",
        "\n",
        "print(\"ADJACENCY MATRIX\", \"=\"*120)\n",
        "display(adj_mtx)"
      ],
      "metadata": {
        "id": "Ql-_0-2sygz1"
      },
      "execution_count": null,
      "outputs": []
    },
    {
      "cell_type": "code",
      "source": [
        "# the columns given in dataset \n",
        "#['6':SOURCE, '2':TARGET,'4' RATING,'1289241911.72836': TIME]\n",
        "\n",
        "# adj_list contains all the nodes and their adjacent nodes in the list respect to each node.\n",
        "adj_list={}\n",
        "for i in range(df.shape[0]):\n",
        "  source=df.iloc[i,0]\n",
        "  tar=df.iloc[i,1]\n",
        "  if(source in adj_list):\n",
        "    adj_list[source].append(tar)\n",
        "  else:\n",
        "    adj_list[source]=list()\n",
        "    adj_list[source].append(tar)\n",
        "\n",
        "adj_list\n"
      ],
      "metadata": {
        "id": "9saRTodpt-Pa"
      },
      "execution_count": null,
      "outputs": []
    },
    {
      "cell_type": "code",
      "source": [
        "\n",
        "max_ver=0\n",
        "for k,v in adj_list.items():\n",
        "  temp=max(v)\n",
        "  max_ver=max(max_ver,temp)"
      ],
      "metadata": {
        "id": "JLFJA7tuKcuP"
      },
      "execution_count": null,
      "outputs": []
    },
    {
      "cell_type": "markdown",
      "source": [
        "Representation in the form of adjaency matrix of the graph"
      ],
      "metadata": {
        "id": "mv_4O_akKzxc"
      }
    },
    {
      "cell_type": "code",
      "source": [
        "# adj_matrix contains all the nodes in row and column and also contains the values (0/1) according to the presence of the adjacent nodes.\n",
        "adj_matrix=np.zeros((max_ver+1,max_ver+1))"
      ],
      "metadata": {
        "id": "eYgrpwCcKy9U"
      },
      "execution_count": null,
      "outputs": []
    },
    {
      "cell_type": "code",
      "source": [
        "for k,v in adj_list.items():\n",
        "  for u in v:\n",
        "    adj_matrix[k][u]=1"
      ],
      "metadata": {
        "id": "flOjXS4IMpyv"
      },
      "execution_count": null,
      "outputs": []
    },
    {
      "cell_type": "code",
      "source": [
        "adj_matrix"
      ],
      "metadata": {
        "id": "RYIJdvgnMw8G"
      },
      "execution_count": null,
      "outputs": []
    },
    {
      "cell_type": "markdown",
      "source": [
        "# Print the Number of Nodes in dataset"
      ],
      "metadata": {
        "id": "t2UJwZrhUT36"
      }
    },
    {
      "cell_type": "code",
      "source": [
        "\n",
        "\n",
        "#unique_nodes contains all the nodes\n",
        "unique_nodes=set()\n",
        "for k,v in adj_list.items():\n",
        "  unique_nodes.add(k)\n",
        "  for i in v:\n",
        "    unique_nodes.add(i)\n",
        "print(\"The total number of nodes in the dataset is: \",len(unique_nodes))"
      ],
      "metadata": {
        "id": "0I1gxG6IM7R7"
      },
      "execution_count": null,
      "outputs": []
    },
    {
      "cell_type": "markdown",
      "source": [
        "# Print the no of edges in dataset"
      ],
      "metadata": {
        "id": "QxYyNNE6Ui0v"
      }
    },
    {
      "cell_type": "code",
      "source": [
        "#count_edge contains count of edges of graph\n",
        "count_edge=0\n",
        "for k,v in adj_list.items():\n",
        "  count_edge+=len(v)\n",
        "print(\"The total number of edges in the dataset is: \",count_edge)"
      ],
      "metadata": {
        "id": "J-MbCTK4P89a"
      },
      "execution_count": null,
      "outputs": []
    },
    {
      "cell_type": "markdown",
      "source": [
        "Average. Out-Degree"
      ],
      "metadata": {
        "id": "TaSu6JdVUyvB"
      }
    },
    {
      "cell_type": "code",
      "source": [
        "\n",
        "#Calculating the average of out-degree of the graph\n",
        "print(\"The Average of Outdegree of the nodes in the dataset is: \",count_edge/len(adj_list))"
      ],
      "metadata": {
        "id": "78I01s-tUuUm"
      },
      "execution_count": null,
      "outputs": []
    },
    {
      "cell_type": "markdown",
      "source": [
        "Average in degree"
      ],
      "metadata": {
        "id": "-MtA7JhzVnEv"
      }
    },
    {
      "cell_type": "code",
      "source": [
        "#Calculating the average of in-degree of the graph\n",
        "InDegree=dict()\n",
        "for k,v in adj_list.items():\n",
        "  for i in v:\n",
        "    if i in InDegree:\n",
        "      InDegree[i]+=1\n",
        "    else:\n",
        "      InDegree[i]=1\n",
        "count_indegree=0\n",
        "for k,v in InDegree.items():\n",
        "  count_indegree+=v\n",
        "\n",
        "print(\"The Average of Indegree of the nodes in the dataset is: \",count_indegree/len(InDegree))\n",
        "     "
      ],
      "metadata": {
        "id": "sWN53j6TVidY"
      },
      "execution_count": null,
      "outputs": []
    },
    {
      "cell_type": "markdown",
      "source": [
        "# **NODE WITH MAXIMUM OUT DEGREE**"
      ],
      "metadata": {
        "id": "V3is_ep9V7Ga"
      }
    },
    {
      "cell_type": "code",
      "source": [
        "#Finding out the node which contains maximum out-degree\n",
        "max_outdegree=0\n",
        "max_outnode=0\n",
        "for k,v in adj_list.items():\n",
        "   if max_outdegree < len(v):\n",
        "    max_outdegree=max(max_outdegree,len(v))\n",
        "    max_outnode=k\n",
        "print(\"The Maximum Outdegree in the dataset is: \",max_outnode)"
      ],
      "metadata": {
        "id": "vTHqxyhzVymo"
      },
      "execution_count": null,
      "outputs": []
    },
    {
      "cell_type": "markdown",
      "source": [
        "# **NODE WITH MAXIMUM IN -DEGREE**"
      ],
      "metadata": {
        "id": "dhsLZLc7WJx_"
      }
    },
    {
      "cell_type": "code",
      "source": [
        "#Finding out the node which contains maximum in-degree\n",
        "max_indegree=0\n",
        "max_innode=0\n",
        "for k,v in InDegree.items():\n",
        "  if(max_indegree<v):\n",
        "    max_indegree=max(max_indegree,v)\n",
        "    max_innode=k\n",
        "print(\"The Maximum Indegree in the dataset is: \",max_innode)"
      ],
      "metadata": {
        "id": "LDb-rQsDWH0E"
      },
      "execution_count": null,
      "outputs": []
    },
    {
      "cell_type": "markdown",
      "source": [
        "# **Density of the network**"
      ],
      "metadata": {
        "id": "y5VATT2sZSWY"
      }
    },
    {
      "cell_type": "code",
      "source": [
        "#Finding out the density of the graph network\n",
        "nodes=len(unique_nodes)\n",
        "print(\"The density of the network of the dataset is: \",count_edge/(nodes*(nodes-1)))"
      ],
      "metadata": {
        "id": "QIEuR621Yok1"
      },
      "execution_count": null,
      "outputs": []
    },
    {
      "cell_type": "markdown",
      "source": [
        "Plot degree distribution of the network (in case of a directed graph, plot in-degree and\n",
        "out-degree separately)."
      ],
      "metadata": {
        "id": "gMARUY9baqKi"
      }
    },
    {
      "cell_type": "code",
      "source": [
        "#Creating the dictionaries for indegree and outdegree and the respective nodes\n",
        "indegree_dist=dict()\n",
        "outdegree_dist=dict()\n",
        "for k,v in InDegree.items():\n",
        "  if(v in indegree_dist):\n",
        "    indegree_dist[v]+=1\n",
        "  else:\n",
        "    indegree_dist[v]=1\n",
        "for k,v in adj_list.items():\n",
        "  temp=len(v)\n",
        "  if(temp in outdegree_dist):\n",
        "    outdegree_dist[temp]+=1\n",
        "  else:\n",
        "    outdegree_dist[temp]=1"
      ],
      "metadata": {
        "id": "iD6sfW1baZkl"
      },
      "execution_count": null,
      "outputs": []
    },
    {
      "cell_type": "code",
      "source": [
        "#Plot the indegree and outdegree distribution\n",
        "ind_nodes = list(indegree_dist.keys())           \n",
        "no_nodes = list(indegree_dist.values())        \n",
        "plt.plot(ind_nodes, no_nodes, '.')\n",
        "plt.xlabel(\"In-Degree of Nodes\")\n",
        "plt.ylabel(\"Number of Nodes\")\n",
        "plt.title(\"Degree distribution(Indegree)\")\n",
        "plt.show()"
      ],
      "metadata": {
        "id": "y5xq3Q6tbF8l"
      },
      "execution_count": null,
      "outputs": []
    },
    {
      "cell_type": "code",
      "source": [
        "out_nodes = list(outdegree_dist.keys())           \n",
        "no_nodes = list(outdegree_dist.values())        \n",
        "plt.plot(out_nodes, no_nodes, '.')\n",
        "plt.xlabel(\"Out-Degree of Nodes\")\n",
        "plt.ylabel(\"Number of Nodes\")\n",
        "plt.title(\"Degree distribution(Outdegree)\")\n",
        "plt.show()"
      ],
      "metadata": {
        "id": "1BtQxzxgcFq-"
      },
      "execution_count": null,
      "outputs": []
    },
    {
      "cell_type": "markdown",
      "source": [
        "CLUSTERING COEFFICIENT OF NODE"
      ],
      "metadata": {
        "id": "seEqiclzdijq"
      }
    },
    {
      "cell_type": "code",
      "source": [
        "def calNeigh(nodes, adj_mtx):\n",
        "  N_v, neighb = 0, []\n",
        "  for j in nodes:\n",
        "      if adj_mtx[i][j]:\n",
        "          neighb.append(j)\n",
        "  for k in neighb:\n",
        "      for k2 in neighb:\n",
        "          if adj_mtx[k][k2]:\n",
        "              N_v += 1\n",
        "  return neighb, N_v"
      ],
      "metadata": {
        "id": "ro5gSJ_Qcib1"
      },
      "execution_count": null,
      "outputs": []
    },
    {
      "cell_type": "code",
      "source": [
        "df.info()"
      ],
      "metadata": {
        "id": "sYrkYnvDjZnJ"
      },
      "execution_count": null,
      "outputs": []
    },
    {
      "cell_type": "code",
      "source": [
        "import matplotlib.pyplot as plt\n",
        "from prettytable import PrettyTable\n",
        "from tqdm import tqdm\n",
        "print(\"\\n\\t\\t\\t\\t\\t   CLUSTERING CO-EFFICIENTS OF THE NODES\\n\")\n",
        "nodes = list(set(list(df[0])+list(df[1])))\n",
        "clust_coeff = {}\n",
        "for i in tqdm(nodes, leave=True, position=0):\n",
        "  neighb, N_v = calNeigh(nodes, adj_matrix)\n",
        "  try:\n",
        "      clust_coeff[i] = (N_v)/(len(neighb)*(len(neighb)-1))\n",
        "  except:\n",
        "      clust_coeff[i] = 0"
      ],
      "metadata": {
        "id": "hLkCJEcQhxJM"
      },
      "execution_count": null,
      "outputs": []
    },
    {
      "cell_type": "code",
      "source": [
        "import operator\n",
        "t1 = PrettyTable(['NODE','CLUSTERING-COEFFICIENT'])\n",
        "for i in dict(sorted(clust_coeff.items(),key=operator.itemgetter(1),reverse=True)):\n",
        "    t1.add_row([i,clust_coeff[i]])\n",
        "  \n",
        "print(t1)"
      ],
      "metadata": {
        "id": "AFmDuqE1kels"
      },
      "execution_count": null,
      "outputs": []
    },
    {
      "cell_type": "code",
      "source": [
        "import math,operator\n",
        "t1 = []\n",
        "for i in dict(sorted(clust_coeff.items(),key=operator.itemgetter(1),reverse=True)):\n",
        "  t1.append([i,clust_coeff[i]])\n",
        "    \n",
        "\n"
      ],
      "metadata": {
        "id": "APTYfM-fkqVw"
      },
      "execution_count": null,
      "outputs": []
    },
    {
      "cell_type": "code",
      "source": [
        "t = pd.DataFrame(t1)\n",
        "t.columns = ['Node','Coefficients']"
      ],
      "metadata": {
        "id": "zx60pieFmCJX"
      },
      "execution_count": null,
      "outputs": []
    },
    {
      "cell_type": "code",
      "source": [
        "t.plot(kind = 'scatter',\n",
        "        x = 'Coefficients',\n",
        "        y = 'Node',\n",
        "        color = 'red')\n",
        "  \n",
        "# set the title\n",
        "plt.title('Clustering Coefficient Distribution Of The Network')\n",
        "  \n",
        "# show the plot\n",
        "plt.show()"
      ],
      "metadata": {
        "id": "pxLePbZbmIKq"
      },
      "execution_count": null,
      "outputs": []
    },
    {
      "cell_type": "markdown",
      "source": [
        "method 2(check)"
      ],
      "metadata": {
        "id": "xWGpHQl-mQHt"
      }
    },
    {
      "cell_type": "code",
      "source": [
        "#Local cluster contains the local cluster value with respect to the node.\n",
        "local_cluster=dict()\n",
        "for k,v in adj_list.items():\n",
        "  u=k\n",
        "  count=0\n",
        "  for i in v:\n",
        "    for j in v:\n",
        "      if adj_matrix[i][j]==1:\n",
        "        count+=1\n",
        "  try:\n",
        "    local_cluster[k]=count/(len(v)*(len(v)-1))\n",
        "  except:\n",
        "    local_cluster[k]=0"
      ],
      "metadata": {
        "id": "_C5SY_LumUSy"
      },
      "execution_count": null,
      "outputs": []
    },
    {
      "cell_type": "code",
      "source": [
        "# file to store cluster coefficient of each node\n",
        "import json\n",
        "with open(\"lcc.json\", \"w\") as outfile:\n",
        "    json.dump(clust_coeff, outfile)"
      ],
      "metadata": {
        "id": "hUAtA5yHngrQ"
      },
      "execution_count": null,
      "outputs": []
    },
    {
      "cell_type": "code",
      "source": [
        "#Plot local cluster coefficients and nodes.\n",
        "clust_nodes = list(local_cluster.keys())           \n",
        "local_coeff = list(local_cluster.values())        \n",
        "plt.plot(clust_nodes, local_coeff, '.')\n",
        "plt.xlabel(\"Nodes\")\n",
        "plt.ylabel(\"Local cluster coefficients\")\n",
        "plt.title(\"Local Clustering Coeffic\")\n",
        "plt.show()"
      ],
      "metadata": {
        "id": "goqlV5_XmYwd"
      },
      "execution_count": null,
      "outputs": []
    },
    {
      "cell_type": "code",
      "source": [
        "def calCounts(clust_coeff):\n",
        "  count0, count1 = 0, 0 \n",
        "  for i in clust_coeff:\n",
        "    if not clust_coeff[i]:\n",
        "        count0 += 1\n",
        "    if clust_coeff[i] == 1:\n",
        "        count1 += 1\n",
        "  return count0, count1"
      ],
      "metadata": {
        "id": "caOgV9_HmmT8"
      },
      "execution_count": null,
      "outputs": []
    },
    {
      "cell_type": "code",
      "source": [
        "count0, count1 = calCounts(clust_coeff)\n",
        "\n",
        "print(\"NODES WITH CLUSTERING COEFFICIENT 0::\",count0)\n",
        "print(\"NODES WITH CLUSTERING COEFFICIENT 1::\",count1)\n",
        "print(\"CLUSTERING COEFFICIENT OF THE NETWORK::\",sum(list(clust_coeff.values()))/len(nodes))"
      ],
      "metadata": {
        "id": "q74MQ2pLmslT"
      },
      "execution_count": null,
      "outputs": []
    },
    {
      "cell_type": "markdown",
      "source": [
        "# **QUESTION 2**"
      ],
      "metadata": {
        "id": "2pIrFbzdsFaA"
      }
    },
    {
      "cell_type": "code",
      "source": [
        "#PAGE RANK OF EACH NODE\n",
        "import networkx as nx\n",
        "edge_list=list()\n",
        "for k,v in adj_list.items():\n",
        "  for u in v:\n",
        "    edge_list.append((k,u))\n",
        "\n",
        "\n",
        "#DG depicts the di-graph from networkx library\n",
        "digraph_obj = nx.DiGraph()\n",
        "digraph_obj.add_edges_from(edge_list)\n",
        "#Calculating the page rank of each node from networkx library\n",
        "page_rank=nx.pagerank(digraph_obj)\n",
        "print(page_rank)\n",
        "\n",
        "\n"
      ],
      "metadata": {
        "id": "o0HrigEwsKjs"
      },
      "execution_count": null,
      "outputs": []
    },
    {
      "cell_type": "markdown",
      "source": [
        "# **from scratch**"
      ],
      "metadata": {
        "id": "HhFZ0QFXy9uO"
      }
    },
    {
      "cell_type": "code",
      "source": [
        "def p_rank(G, alpha=0.85, personalization=None,max_iter=100, tol=1.0e-6, nstart=None, weight='weight',dangling=None):\n",
        "    if len(G) == 0:\n",
        "        return {}\n",
        "\n",
        "    if not G.is_directed():\n",
        "        D = G.to_directed()\n",
        "    else:\n",
        "        D = G\n",
        "\n",
        "    # Create a copy in (right) stochastic form\n",
        "    W = nx.stochastic_graph(D, weight=weight)\n",
        "    N = W.number_of_nodes()\n",
        "\n",
        "    # Choose fixed starting vector if not given\n",
        "    if nstart is None:\n",
        "        x = dict.fromkeys(W, 1.0 / N)\n",
        "    else:\n",
        "        # Normalized nstart vector\n",
        "        s = float(sum(nstart.values()))\n",
        "        x = dict((k, v / s) for k, v in nstart.items())\n",
        "\n",
        "    if personalization is None:\n",
        "\n",
        "        # Assign uniform personalization vector if not given\n",
        "        p = dict.fromkeys(W, 1.0 / N)\n",
        "    else:\n",
        "        missing = set(G) - set(personalization)\n",
        "        if missing:\n",
        "            raise NetworkXError('Personalization dictionary ''must have a value for every node.''Missing nodes %s' % missing)\n",
        "        s = float(sum(personalization.values()))\n",
        "        p = dict((k, v / s) for k, v in personalization.items())\n",
        "    if dangling is None:\n",
        "\n",
        "        # Use personalization vector if dangling vector not specified\n",
        "        dangling_weights = p\n",
        "    else:\n",
        "        missing = set(G) - set(dangling)\n",
        "        if missing:\n",
        "            raise NetworkXError('Dangling node dictionary ''must have a value for every node. ' 'Missing nodes %s' % missing)\n",
        "        s = float(sum(dangling.values()))\n",
        "        dangling_weights = dict((k, v/s) for k, v in dangling.items())\n",
        "    dangling_nodes = [n for n in W if W.out_degree(n, weight=weight) == 0.0]\n",
        "    # power iteration: make up to max_iter iterations\n",
        "    for _ in range(max_iter):\n",
        "        xlast = x\n",
        "        x = dict.fromkeys(xlast.keys(), 0)\n",
        "        danglesum = alpha * sum(xlast[n] for n in dangling_nodes)\n",
        "        for n in x:\n",
        "\n",
        "            # this matrix multiply looks odd because it is\n",
        "            # doing a left multiply x^T=xlast^T*W\n",
        "            for nbr in W[n]:\n",
        "                x[nbr] += alpha * xlast[n] * W[n][nbr][weight]\n",
        "            x[n] += danglesum * dangling_weights[n] + (1.0 - alpha) * p[n]\n",
        "\n",
        "        # check convergence, l1 norm\n",
        "        err = sum([abs(x[n] - xlast[n]) for n in x])\n",
        "        if err < N*tol:\n",
        "            return x\n",
        "    raise NetworkXError('pagerank: power iteration failed to converge ''in %d iterations.' % max_iter)\n",
        "\n",
        "               "
      ],
      "metadata": {
        "id": "IzrYosFLzBe7"
      },
      "execution_count": null,
      "outputs": []
    },
    {
      "cell_type": "code",
      "source": [
        "G = nx.DiGraph() \n",
        "G.add_edges_from(edge_list) \n",
        "pr = p_rank(G)\n",
        "pr"
      ],
      "metadata": {
        "id": "Zb91paOI05yn"
      },
      "execution_count": null,
      "outputs": []
    },
    {
      "cell_type": "markdown",
      "source": [
        "# **Authority and Hub score for each node**"
      ],
      "metadata": {
        "id": "O1DPm1bduX32"
      }
    },
    {
      "cell_type": "code",
      "source": [
        "#Function to calculate the authority and hub score for each node\n",
        "def calculate_hub_auth(adjacency_matrix,n):\n",
        "\n",
        "  score_hub = list()\n",
        "  for i in range(n):\n",
        "    score_hub.append(1.0)\n",
        "  score_authority = list()\n",
        "  for i in range(n):\n",
        "    score_authority.append(1.0)\n",
        "\n",
        "\n",
        "\n",
        "  for x in range(5):\n",
        "    # Calculating the authority scores of the nodes\n",
        "    for j in range(n):\n",
        "      temp = 0.0\n",
        "      for i in range(n):\n",
        "        if adjacency_matrix[i][j] == 1:\n",
        "          temp += score_hub[i]\n",
        "      score_authority[j] = temp\n",
        "      \n",
        "    # Normalizing the authority scores\n",
        "    auth_sum = 0\n",
        "    for i in score_authority:\n",
        "      auth_sum+=i\n",
        "    len_auth_score=len(score_authority)\n",
        "    for i in range(len_auth_score):\n",
        "      score_authority[i]=score_authority[i]/ auth_sum\n",
        "    \n",
        "    # Calculating the hub scores of the nodes\n",
        "    for i in range(n):\n",
        "      temp1 = 0.0\n",
        "      for j in range(n):\n",
        "        if adjacency_matrix[i][j] == 1:\n",
        "          temp1 += score_authority[j]\n",
        "      score_hub[i] = temp1\n",
        "\n",
        "     # Normalizing the hub scores\n",
        "    hub_sum =0\n",
        "    for i in score_hub:\n",
        "      hub_sum+=i\n",
        "    hub_len=len(score_hub)\n",
        "    for i in range(hub_len):\n",
        "      score_hub[i] /= hub_sum\n",
        "  temp_list=list(range(n))\n",
        "  score_authority_dict=dict(zip(temp_list, score_authority))\n",
        "  score_hub_dict=dict(zip(temp_list, score_hub))\n",
        "  return score_authority_dict, score_hub_dict     "
      ],
      "metadata": {
        "id": "AW0hT8DVubFW"
      },
      "execution_count": null,
      "outputs": []
    },
    {
      "cell_type": "code",
      "source": [
        "authority_scores, hub_scores = calculate_hub_auth(adj_matrix,max_ver+1)"
      ],
      "metadata": {
        "id": "mHM7otzk2Hcz"
      },
      "execution_count": null,
      "outputs": []
    },
    {
      "cell_type": "code",
      "source": [
        "# printing authority_scores\n",
        "print(authority_scores)"
      ],
      "metadata": {
        "id": "HreZ3bj02O3t"
      },
      "execution_count": null,
      "outputs": []
    },
    {
      "cell_type": "code",
      "source": [
        "#printing hub score for each node\n",
        "print(hub_scores)"
      ],
      "metadata": {
        "id": "gWDctIj-2plt"
      },
      "execution_count": null,
      "outputs": []
    },
    {
      "cell_type": "markdown",
      "source": [
        "# **Graph to show Page Rank**"
      ],
      "metadata": {
        "id": "20W5F5AU22pb"
      }
    },
    {
      "cell_type": "code",
      "source": [
        "\n",
        "\n",
        "#Plot the Page Rank\n",
        "nodes = list(page_rank.keys())           \n",
        "pg_rank = list(page_rank.values())        \n",
        "plt.plot(nodes, pg_rank, '.')\n",
        "plt.xlabel(\"Nodes\")\n",
        "plt.ylabel(\"Page Rank\")\n",
        "plt.title(\"Page Rank Distribution\")\n",
        "plt.show()"
      ],
      "metadata": {
        "id": "7GHTp_K_2xIG"
      },
      "execution_count": null,
      "outputs": []
    },
    {
      "cell_type": "markdown",
      "source": [
        "# **Graph the Hub Score**"
      ],
      "metadata": {
        "id": "bG__rcZu3LCN"
      }
    },
    {
      "cell_type": "code",
      "source": [
        "#Graph the Hub Score\n",
        "nodes = list(hub_scores.keys())           \n",
        "hub_score = list(hub_scores.values())        \n",
        "plt.plot(nodes,hub_score, '.')\n",
        "plt.xlabel(\"Nodes\")\n",
        "plt.ylabel(\"Hub Scores\")\n",
        "plt.title(\"Hub Score Distribution\")\n",
        "plt.show()\n",
        "     \n"
      ],
      "metadata": {
        "id": "RA3qfLuH3DB4"
      },
      "execution_count": null,
      "outputs": []
    },
    {
      "cell_type": "markdown",
      "source": [
        "# **Graph for Authority Score**"
      ],
      "metadata": {
        "id": "U31i-UHw3Xiw"
      }
    },
    {
      "cell_type": "code",
      "source": [
        "#graph for the Authority Score\n",
        "nodes = list(authority_scores.keys())           \n",
        "auth_score = list(authority_scores.values())        \n",
        "plt.plot(nodes,auth_score, '.')\n",
        "plt.xlabel(\"Nodes\")\n",
        "plt.ylabel(\"Authority Scores\")\n",
        "plt.title(\"Authority Score Distribution\")\n",
        "plt.show()"
      ],
      "metadata": {
        "id": "nfCcH7Ji3RYk"
      },
      "execution_count": null,
      "outputs": []
    },
    {
      "cell_type": "markdown",
      "source": [
        "# **Visualization of the Bitcoin graph**"
      ],
      "metadata": {
        "id": "YCkcFTvm3svE"
      }
    },
    {
      "cell_type": "code",
      "source": [
        "def print_Bitcoin_otc_Graph(G, title):\n",
        "  plt.figure(figsize =(20, 15))\n",
        "  plt.title(title)\n",
        "  nx.draw_networkx(G, with_labels = True)\n",
        "  return nx.hits(G,normalized = True)"
      ],
      "metadata": {
        "id": "XtTutzN83r4c"
      },
      "execution_count": null,
      "outputs": []
    },
    {
      "cell_type": "code",
      "source": [
        "h,a = print_Bitcoin_otc_Graph(G, \"VISUALIZATION OF THE BITCOIN NETWORK\")"
      ],
      "metadata": {
        "id": "bQdJe7gl4Ejb"
      },
      "execution_count": null,
      "outputs": []
    }
  ]
}